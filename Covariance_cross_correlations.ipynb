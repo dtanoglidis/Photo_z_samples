{
 "cells": [
  {
   "cell_type": "markdown",
   "metadata": {},
   "source": [
    "## Cross correlations importance"
   ]
  },
  {
   "cell_type": "code",
   "execution_count": 1,
   "metadata": {
    "collapsed": false
   },
   "outputs": [
    {
     "name": "stdout",
     "output_type": "stream",
     "text": [
      "Populating the interactive namespace from numpy and matplotlib\n"
     ]
    },
    {
     "name": "stderr",
     "output_type": "stream",
     "text": [
      "//anaconda/envs/python2/lib/python2.7/site-packages/IPython/core/magics/pylab.py:161: UserWarning: pylab import has clobbered these variables: ['gamma']\n",
      "`%matplotlib` prevents importing * from pylab and numpy\n",
      "  \"\\n`%matplotlib` prevents importing * from pylab and numpy\"\n"
     ]
    }
   ],
   "source": [
    "# Import stuff\n",
    "import numpy as np \n",
    "import scipy\n",
    "from scipy.special import erf\n",
    "from scipy import interpolate \n",
    "from scipy.interpolate import UnivariateSpline\n",
    "import camb\n",
    "from camb import model, initialpower\n",
    "import matplotlib.pyplot as plt\n",
    "from scipy.special import gamma\n",
    "import pylab as pl\n",
    "from code.plot_utils import plot_pretty\n",
    "%matplotlib inline\n",
    "%pylab inline"
   ]
  },
  {
   "cell_type": "code",
   "execution_count": 2,
   "metadata": {
    "collapsed": true
   },
   "outputs": [],
   "source": [
    "#==============================================================================#\n",
    "#==============================================================================#\n",
    "#\n",
    "#\n",
    "# # Now create a class that can create CAMB cosmologies for different matter densities and sigma_8\n",
    "class Cosmology:\n",
    "    \n",
    "    def __init__(self,omega_m,sigma_8,h,z):\n",
    "        self.omega_m = omega_m\n",
    "        self.sigma_8 = sigma_8\n",
    "        self.h = h\n",
    "        self.z = z\n",
    "        self.k_max = 10.0\n",
    "        self.c = 2.99792e+5\n",
    "        \n",
    "        \n",
    "        #=========================\n",
    "        \n",
    "        \n",
    "        cosmo = camb.CAMBparams()\n",
    "        cosmo.set_cosmology(H0=100.0*self.h, ombh2=0.048*(self.h**2.0), omch2=(self.omega_m - 0.048)*(self.h**2.0), mnu=0.06, omk=0, tau=0.06)\n",
    "        cosmo.InitPower.set_params(As=2.0e-9, ns=0.973)\n",
    "        results = camb.get_results(cosmo)\n",
    "        cosmo.set_matter_power(redshifts=[0.0], kmax=10.0)\n",
    "        cambres= camb.get_transfer_functions(cosmo)\n",
    "        cosmo.NonLinear = model.NonLinear_both\n",
    "        kh, z, pk = cambres.get_matter_power_spectrum(minkh=1e-3, maxkh=1.0, npoints = 10)\n",
    "        sigma_8_temp = cambres.get_sigma8()\n",
    "        As_new  = ((self.sigma_8/sigma_8_temp)**2.0)*(2.0e-9)\n",
    "        cosmo.InitPower.set_params(As=As_new, ns=0.973)\n",
    "        cambres = camb.get_results(cosmo)\n",
    "        backres = camb.get_background(cosmo)\n",
    "\n",
    "        self.chi = backres.comoving_radial_distance(self.z)\n",
    "           \n",
    "        self.PK = camb.get_matter_power_interpolator(cosmo, nonlinear=True, \n",
    "                hubble_units=False, k_hunit=False, kmax=self.k_max, zmin = 0.0, zmax=self.z[-1]) \n",
    "        \n",
    "        self.H_z = (backres.hubble_parameter(self.z))/self.c #Hubble parameter in 1/Mpc \n",
    "        \n",
    "        \n",
    "#===================================================================================================================\n",
    "#===================================================================================================================\n",
    "\n",
    "# Selecting cosmologies\n",
    "\n",
    "# Instantize cosmologies \n",
    "\n",
    "omega_m = 0.301\n",
    "sigma_8 = 0.798\n",
    "h = 0.682\n",
    "alpha_om  = omega_m/10.0\n",
    "alpha_sig = sigma_8/10.0\n",
    "\n",
    "#==========================\n",
    "nz = 1000 #number of steps to use for the radial/redshift integration\n",
    "\n",
    "zarray = np.linspace(0,3.0,nz)\n",
    "z = zarray[1:-1]\n",
    "\n",
    "cosmo_fid = Cosmology(omega_m, sigma_8, h, z)\n",
    "cosmo_1 = Cosmology(omega_m + alpha_om, sigma_8, h, z)\n",
    "cosmo_2 = Cosmology(omega_m - alpha_om, sigma_8, h, z)\n",
    "cosmo_3 = Cosmology(omega_m, sigma_8 + alpha_sig, h, z)\n",
    "cosmo_4 = Cosmology(omega_m, sigma_8 - alpha_sig, h, z)\n",
    "\n",
    "#=================================================================================================================#\n",
    "#=================================================================================================================#\n",
    "\n",
    "def cosmoselector(omega, sigma):\n",
    "    #function that selects cosmology\n",
    "    \n",
    "    omfid = 0.301\n",
    "    sigfid = 0.798\n",
    "    \n",
    "    cosmo_dict = {'cosmo_fid': cosmo_fid,\n",
    "                  'cosmo_1' : cosmo_1,\n",
    "                  'cosmo_2' : cosmo_2,\n",
    "                  'cosmo_3' : cosmo_3,\n",
    "                  'cosmo_4' : cosmo_4}\n",
    "    \n",
    "    \n",
    "    if (omega==omfid):\n",
    "        if (sigma == sigfid):\n",
    "            cosm_sel = cosmo_dict['cosmo_fid']\n",
    "        elif (sigma > sigfid):\n",
    "            cosm_sel = cosmo_dict['cosmo_3']\n",
    "        else:\n",
    "            cosm_sel = cosmo_dict['cosmo_4']\n",
    "    elif (omega > omfid): \n",
    "        cosm_sel = cosmo_dict['cosmo_1']\n",
    "    else:\n",
    "        cosm_sel = cosmo_dict['cosmo_2']\n",
    "        \n",
    "    \n",
    "    return cosm_sel\n",
    "\n",
    "# =============================================================================================================#\n",
    "# =============================================================================================================#\n",
    "\n",
    "# Function that calculates and returns window function W(z) for clustering in a bin i\n",
    "\n",
    "def W_z_clust(z, dz, z_i, z_f, sig_z, z_b, b_g, z_0, a, b ):\n",
    "    \"\"\"\n",
    "    Function that calculates the window function for 2D galaxy clustering in a bin i\n",
    "    -----------------\n",
    "    Inputs:\n",
    "    z: array of redshifts used to calculate the window function\n",
    "    dz: array of dz's - useful for the integral\n",
    "    z_i : lower redshift limit of the bin\n",
    "    z_f : upper redshift limit of the bin\n",
    "    sig_z : photometric error spread\n",
    "    z_b : redshift bias in a bin i \n",
    "    b_g : galaxy bias in a bin i\n",
    "    z_0, a, b : parameters that define shape and mean z of the total redshift distribution\n",
    "    ---------------\n",
    "    Returns:\n",
    "    The window function and its integral over all redshifts for a given bin with given limits\n",
    "    \n",
    "    \"\"\"\n",
    "    \n",
    "    # Overall redshift distribution\n",
    "    pref = b/(z_0*gamma((a+1.0)/b))\n",
    "    dNdz = pref*((z/z_0)**a)*np.exp(-(z/z_0)**b)\n",
    "    \n",
    "    \n",
    "    # Photometric window function\n",
    "    x_min = (z - z_i - z_b)/((1.0+z)*sig_z*np.sqrt(2.0))\n",
    "    x_max = (z - z_f - z_b)/((1.0+z)*sig_z*np.sqrt(2.0))\n",
    "\n",
    "    F_z = 0.5*(erf(x_min) - erf(x_max))\n",
    "    \n",
    "    # Normalization\n",
    "    norm_const = np.dot(dz, dNdz*F_z)\n",
    "    \n",
    "    # Window function \n",
    "    \n",
    "    W_z_bin = b_g*dNdz*F_z/norm_const\n",
    "    \n",
    "    return W_z_bin, norm_const"
   ]
  },
  {
   "cell_type": "code",
   "execution_count": 3,
   "metadata": {
    "collapsed": true
   },
   "outputs": [],
   "source": [
    "# Function that calculates C_l,ij  - the cross angular spectum between two bins\n",
    "\n",
    "def C_l_ij(z_i_1,z_f_1,z_i_2,z_f_2, sig_z, z_b_1, z_b_2, b_g_1, b_g_2, Omega_m, sig_8, z_0, a, b, ell):\n",
    "    \"\"\"\n",
    "    Function that calculates the C_l between two bins \n",
    "    -----------------\n",
    "    Inputs:\n",
    "    z_i_1 : Lower limit of the first bin\n",
    "    z_f_1 : Upper limit of the first bin\n",
    "    z_i_2 : Lower limit of the second bin\n",
    "    z_f_2 : Upper limit of the second bin\n",
    "    sig_z : photo-z error scatter\n",
    "    z_b_1 : photo-z bias of the first bin\n",
    "    z_b_2 : photo-z bias of the second bin\n",
    "    b_g_1 : galaxy bias of the first bin\n",
    "    b_g_2 : galaxy bias of the second bin\n",
    "    Omega_m_var: Omega matter - can change\n",
    "    sig_8_var : Sigma_8 parameter - can change\n",
    "    z_0, a, b : parameters that define shape and mean z of the total redshift distribution\n",
    "    ---------------\n",
    "    Returns:\n",
    "    ls and C_l betwenn two bins, i and j. It is the auto spectrum if i=j\n",
    "    \"\"\"\n",
    "    \n",
    "    # Constant\n",
    "    h = 0.682\n",
    "    c = 2.99792e+5\n",
    "\n",
    "    #====================================================================================\n",
    "    #====================================================================================\n",
    "    # Selecting cosmology\n",
    "    \n",
    "    cosmo = cosmoselector(Omega_m, sig_8)\n",
    "    \n",
    "    #====================================================================================\n",
    "    #====================================================================================\n",
    "    #Redshift range for calculations and integration\n",
    "    \n",
    "    nz = 1000 #number of steps to use for the radial/redshift integration\n",
    "    kmax=10.0  #kmax to use\n",
    "\n",
    "    zarray = np.linspace(0,3.0,nz)\n",
    "    dzarray = (zarray[2:]-zarray[:-2])/2.0\n",
    "    zarray = zarray[1:-1]\n",
    "    \n",
    "    #====================================================================================\n",
    "    #Calculate the window function in the two bins\n",
    "    \n",
    "    W_1 = W_z_clust(zarray, dzarray, z_i_1, z_f_1, sig_z, z_b_1, b_g_1, z_0, a, b)[0]\n",
    "    W_2 = W_z_clust(zarray, dzarray, z_i_2, z_f_2, sig_z, z_b_2, b_g_2, z_0, a, b)[0]\n",
    "    \n",
    "    #===================================================================================\n",
    "    #Calculate Hubble parameter and comoving distance\n",
    "    Hubble = cosmo.H_z\n",
    "    # Get comoving distance - in Mpc\n",
    "    chis = cosmo.chi\n",
    "    #========================================================\n",
    "    # Get the full prefactor of the integral\n",
    "    prefact = W_1*W_2*Hubble/(chis**2.0)\n",
    "    #===================================================================================\n",
    "    #===================================================================================\n",
    "    #Do integral over z\n",
    "    \n",
    "    w = np.ones(chis.shape)\n",
    "    k=(ell+0.5)/chis\n",
    "    w[:]=1\n",
    "    w[k<1e-4]=0\n",
    "    w[k>=kmax]=0\n",
    "    c_ell = np.dot(dzarray, w*cosmo.PK.P(zarray, k, grid=False)*prefact)\n",
    "    \n",
    "    #===========================\n",
    "    # Retrurn C_ell\n",
    "    \n",
    "    return c_ell   "
   ]
  },
  {
   "cell_type": "code",
   "execution_count": 4,
   "metadata": {
    "collapsed": true
   },
   "outputs": [],
   "source": [
    "def C_l_matr(z_init, z_end, N_bins, sig_z, z_0, a, b, ell):\n",
    "    \"\"\"\n",
    "    Function that caclulates and returns a matrix that has elements C_l^{ij} for a given l\n",
    "    ==============================================================\n",
    "    Inputs:\n",
    "    \n",
    "    z_init : initial redshift of the distribution\n",
    "    z_end  : final redshift of the distribution\n",
    "    l      : multipole for which we calculate the matrix\n",
    "    N_bins : number of redshift bins\n",
    "    sig_z  : redshift error\n",
    "    n_tot  : total angular density of objects\n",
    "    z_0    : mean redshift of the distribution\n",
    "    \n",
    "    Returns:\n",
    "    \n",
    "    The matrix C_l^{ij}\n",
    "    \n",
    "    \"\"\"\n",
    "    Omega_m = 0.301\n",
    "    sigma_8 = 0.798\n",
    "    z_b = 0.0\n",
    "    #=============================================================\n",
    "    #Redshift range for calculations and integration\n",
    "    nz = 1000 #number of steps to use for the radial/redshift integration\n",
    "\n",
    "    zarray = np.linspace(0,4.0,nz)\n",
    "    dzarray = (zarray[2:]-zarray[:-2])/2.0\n",
    "    zarray = zarray[1:-1]\n",
    "    #==================================================================\n",
    "    #In this module, find the redshift limits of the bins\n",
    "    \n",
    "    delta_z = (z_end - z_init)/N_bins # Width of each bin\n",
    "    \n",
    "    z_lims = np.zeros(N_bins+1) #An empty array that will contain the upper and lower limits of the bins\n",
    "                                #The number of limits is equals the number of bins plus one\n",
    "    \n",
    "    # Now populate the array of the redshift limits\n",
    "    for i in range (0,N_bins+1):\n",
    "        z_lims[i] = z_init + i*delta_z\n",
    "    \n",
    "    #===================================================================\n",
    "    # Here we calculate the bias factors\n",
    "    bias = np.zeros(N_bins) #Create an array that will be populated by the bias factors\n",
    "                            #Its size is the same as the number of bins\n",
    "        \n",
    "    #Now populate the array of galaxy biases\n",
    "    \n",
    "    for i in range(N_bins):\n",
    "        bias[i] = 1.0 + 0.5*(z_lims[i]+z_lims[i+1])\n",
    "    \n",
    "    #===================================================================\n",
    "    # Create matrix which contains the elements C_l^ij\n",
    "    \n",
    "    #Initialize \n",
    "    \n",
    "    C_l_matr = np.zeros([N_bins,N_bins])  #Contains C_ell's\n",
    "    \n",
    "    sum_auto = 0.0\n",
    "    sum_cross = 0.0\n",
    "    \n",
    "    for i in range(0,N_bins):\n",
    "        # Now we have to calculate the limits of the two bins\n",
    "        #Limits of the first -i- bin\n",
    "        z_in_i = z_lims[i]\n",
    "        z_fin_i = z_lims[i+1]\n",
    "        b_g_i = bias[i]\n",
    "        for j in range(i,N_bins):\n",
    "            #Limits of the second -j-bin\n",
    "            z_in_j = z_lims[j]\n",
    "            z_fin_j = z_lims[j+1]\n",
    "            b_g_j = bias[j]\n",
    "            #======================================================\n",
    "            if (i==j):\n",
    "                C_l_matr[i,i] = C_l_ij(z_in_i,z_fin_i,z_in_i,z_fin_i, sig_z, z_b, z_b, b_g_i, b_g_i, Omega_m , sigma_8, z_0, a, b, ell) \n",
    "                sum_auto += C_l_matr[i,i]\n",
    "            else: \n",
    "                C_l_matr[i,j] = C_l_matr[j,i] = C_l_ij(z_in_i,z_fin_i,z_in_j,z_fin_j, sig_z, z_b, z_b, b_g_i, b_g_j, Omega_m, sigma_8, z_0, a, b, ell)\n",
    "                sum_cross += C_l_matr[i,j]\n",
    "    \n",
    "    \n",
    "    return sum_auto, sum_cross, C_l_matr"
   ]
  },
  {
   "cell_type": "code",
   "execution_count": 5,
   "metadata": {
    "collapsed": false
   },
   "outputs": [],
   "source": [
    "z_init = 0.2\n",
    "z_end = 0.95\n",
    "N_bins = 5\n",
    "sig_z_fl = 0.073\n",
    "sig_z_rm = 0.017\n",
    "z_0 = 0.50\n",
    "a = 1.47\n",
    "b = 1.48\n",
    "ell = 200\n",
    "\n",
    "sum_a_fl, sum_c_fl, C_mat_fl = C_l_matr(z_init, z_end, N_bins, sig_z_fl, z_0, a, b, ell)\n",
    "sum_a_rm, sum_c_rm, C_mat_rm = C_l_matr(z_init, z_end, N_bins, sig_z_rm, z_0, a, b, ell)"
   ]
  },
  {
   "cell_type": "code",
   "execution_count": 6,
   "metadata": {
    "collapsed": true
   },
   "outputs": [],
   "source": [
    "import seaborn as sns\n",
    "import matplotlib.axis as ax\n",
    "\n",
    "from matplotlib import rcParams\n",
    "rcParams['font.family'] = 'serif' \n",
    "\n",
    "plot_pretty()"
   ]
  },
  {
   "cell_type": "code",
   "execution_count": 7,
   "metadata": {
    "collapsed": false
   },
   "outputs": [],
   "source": [
    "N_gal_rm = 2.43e6 \n",
    "N_gal_fl = 6.75e7\n",
    "\n",
    "def n_bin_dens(z_init, z_final, N_bins, N_gal_tot, sig_z, f_sky, z_0, a, b):\n",
    "    delta_z = (z_final - z_init)/N_bins # Width of each bin\n",
    "\n",
    "    z_lims = np.zeros(N_bins+1) #An empty array that will contain the upper and lower limits of the bins\n",
    "                                #The number of limits is equals the number of bins plus one\n",
    "    \n",
    "    # Now populate the array of the redshift limits\n",
    "    for i in range (0,N_bins+1):\n",
    "        z_lims[i] = z_init + i*delta_z\n",
    "\n",
    "    #=========================================================================\n",
    "    #=============================================================\n",
    "    #Redshift range for calculations and integration\n",
    "    nz = 1000 #number of steps to use for the radial/redshift integration\n",
    "\n",
    "    zarray = np.linspace(0,4.0,nz)\n",
    "    dzarray = (zarray[2:]-zarray[:-2])/2.0\n",
    "    zarray = zarray[1:-1]\n",
    "    \n",
    "    \n",
    "    z_bias = 0.0\n",
    "    bias = 1.0\n",
    "\n",
    "    # Find normalizations \n",
    "    # This array containts the normalizations - or the integrals of the bins\n",
    "\n",
    "    norm_of_bins = np.zeros(N_bins)\n",
    "\n",
    "    # Populate them\n",
    "\n",
    "    for i in range(0,N_bins):\n",
    "        z_i_bin = z_lims[i]\n",
    "        z_f_bin = z_lims[i+1]\n",
    "\n",
    "        norm_of_bins[i] = W_z_clust(zarray, dzarray, z_i_bin, z_f_bin, sig_z, z_bias, bias, z_0, a, b)[1]\n",
    "        \n",
    "    # Overall normalization\n",
    "\n",
    "    tot_norm = np.sum(norm_of_bins)\n",
    "    \n",
    "    N_gal_in_bins = (N_gal_tot/tot_norm)*norm_of_bins\n",
    "    \n",
    "    ster = f_sky*(4.0*np.pi)\n",
    "    n_bin = N_gal_in_bins/ster\n",
    "    \n",
    "    return n_bin\n",
    "\n",
    "\n",
    "f_sky = 5000./41253.0 # Fraction of the sky\n",
    "n_bin_rm = n_bin_dens(z_init, z_end, N_bins, N_gal_rm, sig_z_rm, f_sky, z_0, a, b)\n",
    "n_bin_fl = n_bin_dens(z_init, z_end, N_bins, N_gal_fl, sig_z_fl, f_sky, z_0, a, b)\n",
    "\n",
    "\n",
    "\n",
    "#for i in range(len(n_bin_rm)):\n",
    "#    n_b_rm = n_bin_rm[i]\n",
    "#    n_b_fl = n_bin_fl[i]\n",
    "    \n",
    "#    C_mat_fl[i,i] = C_mat_fl[i,i] + 1.0/(n_b_fl)\n",
    "#    C_mat_rm[i,i] = C_mat_rm[i,i] + 1.0/(n_b_rm)\n",
    "    "
   ]
  },
  {
   "cell_type": "markdown",
   "metadata": {},
   "source": [
    "### Flux limited first"
   ]
  },
  {
   "cell_type": "code",
   "execution_count": 8,
   "metadata": {
    "collapsed": false
   },
   "outputs": [
    {
     "data": {
      "image/png": "[encoded data removed]",
      "text/plain": [
       "<Figure size 331.2x288 with 2 Axes>"
      ]
     },
     "metadata": {},
     "output_type": "display_data"
    }
   ],
   "source": [
    "fig = plt.figure(figsize = (4.6,4.0))\n",
    "\n",
    "\n",
    "ax = sns.heatmap(C_mat_fl/np.max(C_mat_rm), linewidths=.3,cmap=\"rainbow\")\n",
    "ax.invert_yaxis()\n",
    "ax.collections[0].colorbar.set_label(\"$C_\\ell^{ij}, \\ell=200$\", fontsize=14)\n",
    "\n",
    "x_0 = [0.5,1.5,2.5,3.5,4.5]\n",
    "y_0 =  [4.5,3.5,2.5,1.5,0.5]\n",
    "\n",
    "labels = ['$1$', '$2$','$3$', '$4$', '$5$' ]\n",
    "\n",
    "plt.xticks(x_0, labels, fontsize=13)\n",
    "plt.yticks(y_0, labels, fontsize=13)\n",
    "\n",
    "plt.xlabel('Redshift bin $i$', fontsize=12.5)\n",
    "plt.ylabel('Redshift bin $j$', fontsize=12.5)\n",
    "\n",
    "\n",
    "\n",
    "plt.title('Flux limited', fontsize=13)\n",
    "\n",
    "plt.savefig('Cov_fl.pdf')\n",
    "plt.tight_layout()\n",
    "plt.show()"
   ]
  },
  {
   "cell_type": "code",
   "execution_count": 9,
   "metadata": {
    "collapsed": false
   },
   "outputs": [
    {
     "data": {
      "image/png": "[encoded data removed]",
      "text/plain": [
       "<Figure size 331.2x288 with 2 Axes>"
      ]
     },
     "metadata": {},
     "output_type": "display_data"
    }
   ],
   "source": [
    "fig = plt.figure(figsize = (4.6,4.0))\n",
    "\n",
    "\n",
    "ax = sns.heatmap(C_mat_rm/np.max(C_mat_rm), linewidths=.3,cmap=\"rainbow\")\n",
    "ax.invert_yaxis()\n",
    "ax.collections[0].colorbar.set_label(\"$C_\\ell^{ij}, \\,\\, \\ell=200$\", fontsize=14)\n",
    "\n",
    "x_0 = [0.5,1.5,2.5,3.5,4.5]\n",
    "y_0 =  [4.5,3.5,2.5,1.5,0.5]\n",
    "\n",
    "labels = ['$1$', '$2$','$3$', '$4$', '$5$' ]\n",
    "\n",
    "plt.xticks(x_0, labels, fontsize=13)\n",
    "plt.yticks(y_0, labels, fontsize=13)\n",
    "\n",
    "plt.xlabel('Redshift bin $i$', fontsize=12.5)\n",
    "plt.ylabel('Redshift bin $j$', fontsize=12.5)\n",
    "\n",
    "\n",
    "plt.title('redMaGiC', fontsize=13)\n",
    "\n",
    "plt.savefig('Cov_rm.pdf')\n",
    "plt.tight_layout()\n",
    "plt.show()"
   ]
  },
  {
   "cell_type": "code",
   "execution_count": 10,
   "metadata": {
    "collapsed": false
   },
   "outputs": [
    {
     "name": "stdout",
     "output_type": "stream",
     "text": [
      "(1.3347744234254571e-05, 9.691582829268626e-06)\n"
     ]
    }
   ],
   "source": [
    "print(sum_a_fl, sum_c_fl)"
   ]
  },
  {
   "cell_type": "code",
   "execution_count": 11,
   "metadata": {
    "collapsed": false
   },
   "outputs": [
    {
     "name": "stdout",
     "output_type": "stream",
     "text": [
      "(2.8872776200141905e-05, 2.991306966191824e-06)\n"
     ]
    }
   ],
   "source": [
    "print(sum_a_rm, sum_c_rm)"
   ]
  },
  {
   "cell_type": "code",
   "execution_count": 12,
   "metadata": {
    "collapsed": false
   },
   "outputs": [
    {
     "name": "stdout",
     "output_type": "stream",
     "text": [
      "2.3039327063523197e-05\n",
      "3.186408316633373e-05\n"
     ]
    }
   ],
   "source": [
    "print(sum_a_fl+sum_c_fl)\n",
    "print(sum_a_rm+sum_c_rm)"
   ]
  },
  {
   "cell_type": "code",
   "execution_count": 13,
   "metadata": {
    "collapsed": false
   },
   "outputs": [],
   "source": [
    "sum_a_fl_red = 0.0\n",
    "sum_a_rm_red = 0.0\n",
    "\n",
    "for i in range(5):\n",
    "    n_b_rm = n_bin_rm[i]\n",
    "    n_b_fl = n_bin_fl[i]\n",
    "    \n",
    "    sum_a_fl_red += C_mat_fl[i,i]/(C_mat_fl[i,i] + 1.0/(n_b_fl))\n",
    "    sum_a_rm_red += C_mat_fl[i,i]/(C_mat_rm[i,i] + 1.0/(n_b_rm))"
   ]
  },
  {
   "cell_type": "code",
   "execution_count": 14,
   "metadata": {
    "collapsed": false
   },
   "outputs": [
    {
     "name": "stdout",
     "output_type": "stream",
     "text": [
      "4.680919652056184\n",
      "1.2891432377349408\n"
     ]
    }
   ],
   "source": [
    "print(sum_a_fl_red)\n",
    "print(sum_a_rm_red)"
   ]
  },
  {
   "cell_type": "code",
   "execution_count": 15,
   "metadata": {
    "collapsed": true
   },
   "outputs": [],
   "source": [
    "C_mat_fl_red = np.copy(C_mat_fl)\n",
    "C_mat_rm_red = np.copy(C_mat_rm)\n",
    "\n",
    "for i in range(5):\n",
    "    n_b_rm = n_bin_rm[i]\n",
    "    n_b_fl = n_bin_fl[i]\n",
    "    \n",
    "    C_mat_fl_red[i,i] = C_mat_fl[i,i] + 1.0/(n_b_fl)\n",
    "    C_mat_rm_red[i,i] = C_mat_rm[i,i] + 1.0/(n_b_rm)    "
   ]
  },
  {
   "cell_type": "code",
   "execution_count": 16,
   "metadata": {
    "collapsed": false
   },
   "outputs": [],
   "source": [
    "Cov_mat = np.zeros([25,25])\n",
    "\n",
    "for i in range(5):\n",
    "    for j in range(5):\n",
    "        for m in range(5):\n",
    "            for n in range (5):\n",
    "                Cov_mat[i,n] = C_mat_fl_red[i,m]*C_mat_fl_red[j,n] + C_mat_fl_red[i,n]*C_mat_fl_red[j,m]\n",
    "                \n",
    "Cov_mat = np.copy(Cov_mat)*(1.0/((2.0*200+1)*f_sky))"
   ]
  },
  {
   "cell_type": "code",
   "execution_count": null,
   "metadata": {
    "collapsed": true
   },
   "outputs": [],
   "source": []
  },
  {
   "cell_type": "code",
   "execution_count": null,
   "metadata": {
    "collapsed": true
   },
   "outputs": [],
   "source": []
  },
  {
   "cell_type": "code",
   "execution_count": null,
   "metadata": {
    "collapsed": true
   },
   "outputs": [],
   "source": []
  },
  {
   "cell_type": "code",
   "execution_count": null,
   "metadata": {
    "collapsed": true
   },
   "outputs": [],
   "source": []
  }
 ],
 "metadata": {
  "kernelspec": {
   "display_name": "Python 2",
   "language": "python",
   "name": "python2"
  },
  "language_info": {
   "codemirror_mode": {
    "name": "ipython",
    "version": 2
   },
   "file_extension": ".py",
   "mimetype": "text/x-python",
   "name": "python",
   "nbconvert_exporter": "python",
   "pygments_lexer": "ipython2",
   "version": "2.7.13"
  }
 },
 "nbformat": 4,
 "nbformat_minor": 2
}
