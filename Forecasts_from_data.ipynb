{
 "cells": [
  {
   "cell_type": "markdown",
   "metadata": {},
   "source": [
    "## Fisher forecasts - cosmological constrains\n",
    "\n",
    "### Using the resdshift distributions of samples selected from the DES data\n",
    "\n",
    "In this notebook I present forecasted cosmological constraints (confidence ellipses) obtained using samples selected from the third year of DES data.\n",
    "\n",
    "I compare three samples:\n",
    "\n",
    "- The redMaGiC sample. I use the same definition as the one in the candidacy paper\n",
    "- A flux limited sample, with flux limit $i<22$.\n",
    "- A sample where, on top of the above, I also impose the color cuts used in the BAO selection paper: $(i-z)+2(r-i)>1.7$.\n",
    "\n",
    "I consider in all cases five bins between $z \\in [0.2 - 0.95]$, without taking into account the cross-correlations between bins."
   ]
  },
  {
   "cell_type": "code",
   "execution_count": 1,
   "metadata": {
    "collapsed": false
   },
   "outputs": [
    {
     "name": "stdout",
     "output_type": "stream",
     "text": [
      "Populating the interactive namespace from numpy and matplotlib\n"
     ]
    }
   ],
   "source": [
    "# Import stuff \n",
    "import numpy as np\n",
    "import scipy\n",
    "import matplotlib\n",
    "import matplotlib.pyplot as plt\n",
    "from scipy import interpolate \n",
    "from code.plot_utils import plot_pretty\n",
    "from astropy.io import fits\n",
    "from Ang_clust_SB_reddist import Fish_single_bin as FSB\n",
    "from matplotlib import rcParams\n",
    "rcParams['font.family'] = 'serif'\n",
    "%matplotlib inline\n",
    "%pylab inline\n",
    "\n",
    "plot_pretty()"
   ]
  },
  {
   "cell_type": "code",
   "execution_count": 3,
   "metadata": {
    "collapsed": false
   },
   "outputs": [],
   "source": [
    "# Import CosmicFish now\n",
    "import math\n",
    "import sys\n",
    "import os\n",
    "import IPython\n",
    "#=================================================================================\n",
    "cosmicfish_pylib_path = '/Users/Dimitris/Desktop/Candidacy_all/Theory/CosmicFish/python'\n",
    "sys.path.insert(0, os.path.normpath(cosmicfish_pylib_path))\n",
    "#================================================================================\n",
    "import cosmicfish_pylib.utilities            as fu\n",
    "import cosmicfish_pylib.colors               as fc\n",
    "import cosmicfish_pylib.fisher_matrix        as fm\n",
    "import cosmicfish_pylib.fisher_derived       as fd\n",
    "import cosmicfish_pylib.fisher_operations    as fo\n",
    "import cosmicfish_pylib.fisher_plot_settings as fps\n",
    "import cosmicfish_pylib.fisher_plot_analysis as fpa\n",
    "import cosmicfish_pylib.fisher_plot          as fp"
   ]
  },
  {
   "cell_type": "markdown",
   "metadata": {},
   "source": [
    "Note: The function FSB that calculates the Fisher Matrix in a single bin is callable and takes as inputs:\n",
    "\n",
    "FSB(z_mean, bias, n_z, dn_dDz, f_sky, N_gal)\n",
    "\n",
    "- z_mean $\\to$ the mean redshift of the bin\n",
    "\n",
    "- bias $\\to$ galaxy bias\n",
    "\n",
    "- n_z $\\to$ normalized redshift distribution\n",
    "\n",
    "- dn_dDz $\\to$ derivative w/r to shift of the redshift distributions\n",
    "\n",
    "- f_sky $\\to$ fraction of the sky the survey covers\n",
    "\n",
    "- N_gal $\\to$ number of galaxies in the bin"
   ]
  },
  {
   "cell_type": "markdown",
   "metadata": {},
   "source": [
    "### Import and preprocess the data\n",
    "\n",
    "### DES Flux limited and BAO-like samples"
   ]
  },
  {
   "cell_type": "code",
   "execution_count": 5,
   "metadata": {
    "collapsed": false
   },
   "outputs": [],
   "source": [
    "#Now the data\n",
    "Y3 = fits.open('DES.fits')\n",
    "z_mc = Y3[1].data['dnf_zmc_mof']\n",
    "z_mean = Y3[1].data['dnf_zmean_mof']\n",
    "z_sig = Y3[1].data['dnf_zsigma_mof']\n",
    "\n",
    "i_auto = Y3[1].data['mag_auto_i']\n",
    "g_auto = Y3[1].data['mag_auto_g']\n",
    "r_auto = Y3[1].data['mag_auto_r']\n",
    "z_auto = Y3[1].data['mag_auto_z']\n",
    "spread_model_i = Y3[1].data['spread_model_i']\n",
    "speraderr_model_i = Y3[1].data['spreaderr_model_i']"
   ]
  },
  {
   "cell_type": "code",
   "execution_count": 6,
   "metadata": {
    "collapsed": true
   },
   "outputs": [],
   "source": [
    "# Star - galaxy separation\n",
    "star_gal = ((spread_model_i+(5.0/3.0)*speraderr_model_i)>0.007)\n",
    "\n",
    "# Define the color cuts now\n",
    "col_cuts_1 = ((g_auto - r_auto)>-1.0)&((g_auto - r_auto)<3.0)\n",
    "col_cuts_2 = ((r_auto - i_auto)>-1.0)&((r_auto - i_auto)<2.5)\n",
    "col_cuts_3 = ((i_auto - z_auto)>-1.0)&((i_auto - z_auto)<2.0)\n",
    "col_cuts = col_cuts_1&col_cuts_2&col_cuts_3\n",
    "\n",
    "# Extra_cuts \n",
    "ex_cut = ((z_mean<1.5)&(z_mean>0.0)&(z_mc<1.5))"
   ]
  },
  {
   "cell_type": "code",
   "execution_count": 7,
   "metadata": {
    "collapsed": true
   },
   "outputs": [],
   "source": [
    "z_mc_1 = z_mc[star_gal&col_cuts&ex_cut]\n",
    "z_mean_1 = z_mean[star_gal&col_cuts&ex_cut]\n",
    "z_sig_1 = z_sig[star_gal&col_cuts&ex_cut]\n",
    "\n",
    "i_auto_1 = i_auto[star_gal&col_cuts&ex_cut]\n",
    "g_auto_1 = g_auto[star_gal&col_cuts&ex_cut]\n",
    "r_auto_1 = r_auto[star_gal&col_cuts&ex_cut]\n",
    "z_auto_1 = z_auto[star_gal&col_cuts&ex_cut] "
   ]
  },
  {
   "cell_type": "markdown",
   "metadata": {},
   "source": [
    "#### Bin the Flux-limited sample now"
   ]
  },
  {
   "cell_type": "code",
   "execution_count": 9,
   "metadata": {
    "collapsed": true
   },
   "outputs": [],
   "source": [
    "bin_1_FL = z_mc_1[(z_mean_1>0.2)&(z_mean_1<0.35)]\n",
    "bin_2_FL = z_mc_1[(z_mean_1>0.35)&(z_mean_1<0.50)]\n",
    "bin_3_FL = z_mc_1[(z_mean_1>0.50)&(z_mean_1<0.65)]\n",
    "bin_4_FL = z_mc_1[(z_mean_1>0.65)&(z_mean_1<0.80)]\n",
    "bin_5_FL = z_mc_1[(z_mean_1>0.80)&(z_mean_1<0.95)]"
   ]
  },
  {
   "cell_type": "markdown",
   "metadata": {
    "collapsed": true
   },
   "source": [
    "### BAO cuts and binning now"
   ]
  },
  {
   "cell_type": "code",
   "execution_count": 10,
   "metadata": {
    "collapsed": true
   },
   "outputs": [],
   "source": [
    "color_BAO_cut = (((i_auto_1 - z_auto_1)+2.0*(r_auto_1 - i_auto_1))>1.7)\n",
    "mag_BAO_cut = (i_auto_1<(19.0+3.0*z_mean_1))\n",
    "# ================================================================\n",
    "z_mc_2 = z_mc_1[color_BAO_cut]#&mag_BAO_cut]\n",
    "z_mean_2 = z_mean_1[color_BAO_cut]#&mag_BAO_cut]\n",
    "z_sig_2 = z_sig_1[color_BAO_cut]#&mag_BAO_cut]"
   ]
  },
  {
   "cell_type": "code",
   "execution_count": 11,
   "metadata": {
    "collapsed": true
   },
   "outputs": [],
   "source": [
    "bin_1_BAO = z_mc_2[(z_mean_2>0.20)&(z_mean_2<0.35)]\n",
    "bin_2_BAO = z_mc_2[(z_mean_2>0.35)&(z_mean_2<0.50)]\n",
    "bin_3_BAO = z_mc_2[(z_mean_2>0.50)&(z_mean_2<0.65)]\n",
    "bin_4_BAO = z_mc_2[(z_mean_2>0.65)&(z_mean_2<0.80)]\n",
    "bin_5_BAO = z_mc_2[(z_mean_2>0.80)&(z_mean_2<0.95)]"
   ]
  },
  {
   "cell_type": "markdown",
   "metadata": {},
   "source": [
    "### redMaGiC sample"
   ]
  },
  {
   "cell_type": "code",
   "execution_count": 12,
   "metadata": {
    "collapsed": true
   },
   "outputs": [],
   "source": [
    "RED_1 = fits.open('Redmagic_highdens_0.5_10.fit')\n",
    "RED_2 = fits.open('Redmagic_highlum_1.0-04.fit')\n",
    "RED_3 = fits.open('Redmagic_higherlum_1.5-01.fit')"
   ]
  },
  {
   "cell_type": "code",
   "execution_count": 13,
   "metadata": {
    "collapsed": true
   },
   "outputs": [],
   "source": [
    "red_photo_z_1  = RED_1[1].data['ZREDMAGIC']\n",
    "red_error_z_1 = RED_1[1].data['ZREDMAGIC_E']\n",
    "#============================================\n",
    "red_photo_z_2  = RED_2[1].data['ZREDMAGIC']\n",
    "red_error_z_2 = RED_2[1].data['ZREDMAGIC_E']\n",
    "#============================================\n",
    "red_photo_z_3  = RED_3[1].data['ZREDMAGIC']\n",
    "red_error_z_3 = RED_3[1].data['ZREDMAGIC_E']"
   ]
  },
  {
   "cell_type": "code",
   "execution_count": 14,
   "metadata": {
    "collapsed": true
   },
   "outputs": [],
   "source": [
    "from numpy.random import normal as gauss\n",
    "true_z_1 = gauss(red_photo_z_1,red_error_z_1)\n",
    "true_z_2 = gauss(red_photo_z_2,red_error_z_2)\n",
    "true_z_3 = gauss(red_photo_z_3,red_error_z_3)"
   ]
  },
  {
   "cell_type": "code",
   "execution_count": 15,
   "metadata": {
    "collapsed": true
   },
   "outputs": [],
   "source": [
    "bin_1_rm = true_z_1[(red_photo_z_1>0.20)&(red_photo_z_1<0.35)] \n",
    "bin_2_rm = true_z_1[(red_photo_z_1>0.35)&(red_photo_z_1<0.50)]\n",
    "bin_3_rm = true_z_1[(red_photo_z_1>0.50)&(red_photo_z_1<0.65)]\n",
    "bin_4_rm = true_z_2[(red_photo_z_2>0.65)&(red_photo_z_2<0.80)]\n",
    "bin_5_rm = true_z_3[(red_photo_z_3>0.80)&(red_photo_z_3<0.95)]"
   ]
  },
  {
   "cell_type": "code",
   "execution_count": 16,
   "metadata": {
    "collapsed": true
   },
   "outputs": [],
   "source": [
    "import scipy.stats as stats \n",
    "f_sky = 4580.0/41253.0\n",
    "nz = 1000 #number of steps to use for the radial/redshift integration\n",
    "zarray = np.linspace(0,4.0,nz)\n",
    "z = zarray[1:-1]"
   ]
  },
  {
   "cell_type": "markdown",
   "metadata": {},
   "source": [
    "#### Calculation of the free (no priors) Fisher matrices\n",
    "\n",
    "Bias model assummed $b(z) = 1 + \\bar{z}$"
   ]
  },
  {
   "cell_type": "code",
   "execution_count": null,
   "metadata": {
    "collapsed": true
   },
   "outputs": [],
   "source": []
  },
  {
   "cell_type": "code",
   "execution_count": null,
   "metadata": {
    "collapsed": true
   },
   "outputs": [],
   "source": []
  },
  {
   "cell_type": "code",
   "execution_count": null,
   "metadata": {
    "collapsed": true
   },
   "outputs": [],
   "source": []
  },
  {
   "cell_type": "code",
   "execution_count": null,
   "metadata": {
    "collapsed": true
   },
   "outputs": [],
   "source": []
  },
  {
   "cell_type": "code",
   "execution_count": null,
   "metadata": {
    "collapsed": true
   },
   "outputs": [],
   "source": []
  },
  {
   "cell_type": "code",
   "execution_count": null,
   "metadata": {
    "collapsed": true
   },
   "outputs": [],
   "source": []
  },
  {
   "cell_type": "code",
   "execution_count": null,
   "metadata": {
    "collapsed": true
   },
   "outputs": [],
   "source": []
  },
  {
   "cell_type": "code",
   "execution_count": null,
   "metadata": {
    "collapsed": true
   },
   "outputs": [],
   "source": []
  },
  {
   "cell_type": "code",
   "execution_count": null,
   "metadata": {
    "collapsed": true
   },
   "outputs": [],
   "source": []
  }
 ],
 "metadata": {
  "kernelspec": {
   "display_name": "Python 2",
   "language": "python",
   "name": "python2"
  },
  "language_info": {
   "codemirror_mode": {
    "name": "ipython",
    "version": 2
   },
   "file_extension": ".py",
   "mimetype": "text/x-python",
   "name": "python",
   "nbconvert_exporter": "python",
   "pygments_lexer": "ipython2",
   "version": "2.7.13"
  }
 },
 "nbformat": 4,
 "nbformat_minor": 2
}
