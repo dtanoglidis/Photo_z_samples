{
 "cells": [
  {
   "cell_type": "markdown",
   "metadata": {},
   "source": [
    "## Fisher forecasts - cosmological constrains\n",
    "\n",
    "### Using the resdshift distributions of samples selected from the DES data\n",
    "\n",
    "In this notebook I present forecasted cosmological constraints (confidence ellipses) obtained using samples selected from the third year of DES data.\n",
    "\n",
    "I compare three samples:\n",
    "\n",
    "- The redMaGiC sample. I use the same definition as the one in the candidacy paper\n",
    "- A flux limited sample, with flux limit $i<22$.\n",
    "- A sample where, on top of the above, I also impose the color cuts used in the BAO selection paper: $(i-z)+2(r-i)>1.7$.\n",
    "\n",
    "I consider in all cases five bins between $z \\in [0.2 - 0.95]$, without taking into account the cross-correlations between bins."
   ]
  },
  {
   "cell_type": "code",
   "execution_count": 1,
   "metadata": {
    "collapsed": false
   },
   "outputs": [
    {
     "name": "stdout",
     "output_type": "stream",
     "text": [
      "Populating the interactive namespace from numpy and matplotlib\n"
     ]
    }
   ],
   "source": [
    "# Import stuff \n",
    "import numpy as np\n",
    "import scipy\n",
    "import matplotlib\n",
    "import matplotlib.pyplot as plt\n",
    "from scipy import interpolate \n",
    "from code.plot_utils import plot_pretty\n",
    "from astropy.io import fits\n",
    "from Ang_clust_SB_reddist import Fish_single_bin as FSB\n",
    "from matplotlib import rcParams\n",
    "rcParams['font.family'] = 'serif'\n",
    "%matplotlib inline\n",
    "%pylab inline\n",
    "\n",
    "plot_pretty()"
   ]
  },
  {
   "cell_type": "code",
   "execution_count": 2,
   "metadata": {
    "collapsed": false
   },
   "outputs": [
    {
     "name": "stderr",
     "output_type": "stream",
     "text": [
      "//anaconda/envs/python2/lib/python2.7/site-packages/matplotlib/__init__.py:1401: UserWarning:  This call to matplotlib.use() has no effect\n",
      "because the backend has already been chosen;\n",
      "matplotlib.use() must be called *before* pylab, matplotlib.pyplot,\n",
      "or matplotlib.backends is imported for the first time.\n",
      "\n",
      "  warnings.warn(_use_error_msg)\n"
     ]
    }
   ],
   "source": [
    "# Import CosmicFish now\n",
    "import math\n",
    "import sys\n",
    "import os\n",
    "import IPython\n",
    "#=================================================================================\n",
    "cosmicfish_pylib_path = '/Users/Dimitris/Desktop/Candidacy_all/Theory/CosmicFish/python'\n",
    "sys.path.insert(0, os.path.normpath(cosmicfish_pylib_path))\n",
    "#================================================================================\n",
    "import cosmicfish_pylib.utilities            as fu\n",
    "import cosmicfish_pylib.colors               as fc\n",
    "import cosmicfish_pylib.fisher_matrix        as fm\n",
    "import cosmicfish_pylib.fisher_derived       as fd\n",
    "import cosmicfish_pylib.fisher_operations    as fo\n",
    "import cosmicfish_pylib.fisher_plot_settings as fps\n",
    "import cosmicfish_pylib.fisher_plot_analysis as fpa\n",
    "import cosmicfish_pylib.fisher_plot          as fp"
   ]
  },
  {
   "cell_type": "markdown",
   "metadata": {},
   "source": [
    "Note: The function FSB that calculates the Fisher Matrix in a single bin is callable and takes as inputs:\n",
    "\n",
    "FSB(z_mean, bias, n_z, dn_dDz, f_sky, N_gal)\n",
    "\n",
    "- z_mean $\\to$ the mean redshift of the bin\n",
    "\n",
    "- bias $\\to$ galaxy bias\n",
    "\n",
    "- n_z $\\to$ normalized redshift distribution\n",
    "\n",
    "- dn_dDz $\\to$ derivative w/r to shift of the redshift distributions\n",
    "\n",
    "- f_sky $\\to$ fraction of the sky the survey covers\n",
    "\n",
    "- N_gal $\\to$ number of galaxies in the bin"
   ]
  },
  {
   "cell_type": "markdown",
   "metadata": {},
   "source": [
    "### Import and preprocess the data\n",
    "\n",
    "### DES Flux limited and BAO-like samples"
   ]
  },
  {
   "cell_type": "code",
   "execution_count": 3,
   "metadata": {
    "collapsed": false
   },
   "outputs": [],
   "source": [
    "#Now the data\n",
    "Y3 = fits.open('DES.fits')\n",
    "z_mc = Y3[1].data['dnf_zmc_mof']\n",
    "z_mean = Y3[1].data['dnf_zmean_mof']\n",
    "z_sig = Y3[1].data['dnf_zsigma_mof']\n",
    "\n",
    "i_auto = Y3[1].data['mag_auto_i']\n",
    "g_auto = Y3[1].data['mag_auto_g']\n",
    "r_auto = Y3[1].data['mag_auto_r']\n",
    "z_auto = Y3[1].data['mag_auto_z']\n",
    "spread_model_i = Y3[1].data['spread_model_i']\n",
    "speraderr_model_i = Y3[1].data['spreaderr_model_i']"
   ]
  },
  {
   "cell_type": "code",
   "execution_count": 4,
   "metadata": {
    "collapsed": true
   },
   "outputs": [],
   "source": [
    "# Star - galaxy separation\n",
    "star_gal = ((spread_model_i+(5.0/3.0)*speraderr_model_i)>0.007)\n",
    "\n",
    "# Define the color cuts now\n",
    "col_cuts_1 = ((g_auto - r_auto)>-1.0)&((g_auto - r_auto)<3.0)\n",
    "col_cuts_2 = ((r_auto - i_auto)>-1.0)&((r_auto - i_auto)<2.5)\n",
    "col_cuts_3 = ((i_auto - z_auto)>-1.0)&((i_auto - z_auto)<2.0)\n",
    "col_cuts = col_cuts_1&col_cuts_2&col_cuts_3\n",
    "\n",
    "# Extra_cuts \n",
    "ex_cut = ((z_mean<1.5)&(z_mean>0.0)&(z_mc<1.5))"
   ]
  },
  {
   "cell_type": "code",
   "execution_count": 5,
   "metadata": {
    "collapsed": true
   },
   "outputs": [],
   "source": [
    "z_mc_1 = z_mc[star_gal&col_cuts&ex_cut]\n",
    "z_mean_1 = z_mean[star_gal&col_cuts&ex_cut]\n",
    "z_sig_1 = z_sig[star_gal&col_cuts&ex_cut]\n",
    "\n",
    "i_auto_1 = i_auto[star_gal&col_cuts&ex_cut]\n",
    "g_auto_1 = g_auto[star_gal&col_cuts&ex_cut]\n",
    "r_auto_1 = r_auto[star_gal&col_cuts&ex_cut]\n",
    "z_auto_1 = z_auto[star_gal&col_cuts&ex_cut] "
   ]
  },
  {
   "cell_type": "markdown",
   "metadata": {},
   "source": [
    "#### Bin the Flux-limited sample now"
   ]
  },
  {
   "cell_type": "code",
   "execution_count": 6,
   "metadata": {
    "collapsed": true
   },
   "outputs": [],
   "source": [
    "bin_1_FL = z_mc_1[(z_mean_1>0.2)&(z_mean_1<0.35)]\n",
    "bin_2_FL = z_mc_1[(z_mean_1>0.35)&(z_mean_1<0.50)]\n",
    "bin_3_FL = z_mc_1[(z_mean_1>0.50)&(z_mean_1<0.65)]\n",
    "bin_4_FL = z_mc_1[(z_mean_1>0.65)&(z_mean_1<0.80)]\n",
    "bin_5_FL = z_mc_1[(z_mean_1>0.80)&(z_mean_1<0.95)]"
   ]
  },
  {
   "cell_type": "markdown",
   "metadata": {
    "collapsed": true
   },
   "source": [
    "### BAO cuts and binning now"
   ]
  },
  {
   "cell_type": "code",
   "execution_count": 7,
   "metadata": {
    "collapsed": true
   },
   "outputs": [],
   "source": [
    "color_BAO_cut = (((i_auto_1 - z_auto_1)+2.0*(r_auto_1 - i_auto_1))>1.7)\n",
    "mag_BAO_cut = (i_auto_1<(19.0+3.0*z_mean_1))\n",
    "# ================================================================\n",
    "z_mc_2 = z_mc_1[color_BAO_cut]#&mag_BAO_cut]\n",
    "z_mean_2 = z_mean_1[color_BAO_cut]#&mag_BAO_cut]\n",
    "z_sig_2 = z_sig_1[color_BAO_cut]#&mag_BAO_cut]"
   ]
  },
  {
   "cell_type": "code",
   "execution_count": 8,
   "metadata": {
    "collapsed": true
   },
   "outputs": [],
   "source": [
    "bin_1_BAO = z_mc_2[(z_mean_2>0.20)&(z_mean_2<0.35)]\n",
    "bin_2_BAO = z_mc_2[(z_mean_2>0.35)&(z_mean_2<0.50)]\n",
    "bin_3_BAO = z_mc_2[(z_mean_2>0.50)&(z_mean_2<0.65)]\n",
    "bin_4_BAO = z_mc_2[(z_mean_2>0.65)&(z_mean_2<0.80)]\n",
    "bin_5_BAO = z_mc_2[(z_mean_2>0.80)&(z_mean_2<0.95)]"
   ]
  },
  {
   "cell_type": "markdown",
   "metadata": {},
   "source": [
    "### redMaGiC sample"
   ]
  },
  {
   "cell_type": "code",
   "execution_count": 9,
   "metadata": {
    "collapsed": true
   },
   "outputs": [],
   "source": [
    "RED_1 = fits.open('Redmagic_highdens_0.5_10.fit')\n",
    "RED_2 = fits.open('Redmagic_highlum_1.0-04.fit')\n",
    "RED_3 = fits.open('Redmagic_higherlum_1.5-01.fit')"
   ]
  },
  {
   "cell_type": "code",
   "execution_count": 10,
   "metadata": {
    "collapsed": true
   },
   "outputs": [],
   "source": [
    "red_photo_z_1  = RED_1[1].data['ZREDMAGIC']\n",
    "red_error_z_1 = RED_1[1].data['ZREDMAGIC_E']\n",
    "#============================================\n",
    "red_photo_z_2  = RED_2[1].data['ZREDMAGIC']\n",
    "red_error_z_2 = RED_2[1].data['ZREDMAGIC_E']\n",
    "#============================================\n",
    "red_photo_z_3  = RED_3[1].data['ZREDMAGIC']\n",
    "red_error_z_3 = RED_3[1].data['ZREDMAGIC_E']"
   ]
  },
  {
   "cell_type": "code",
   "execution_count": 11,
   "metadata": {
    "collapsed": true
   },
   "outputs": [],
   "source": [
    "from numpy.random import normal as gauss\n",
    "true_z_1 = gauss(red_photo_z_1,red_error_z_1)\n",
    "true_z_2 = gauss(red_photo_z_2,red_error_z_2)\n",
    "true_z_3 = gauss(red_photo_z_3,red_error_z_3)"
   ]
  },
  {
   "cell_type": "code",
   "execution_count": 12,
   "metadata": {
    "collapsed": true
   },
   "outputs": [],
   "source": [
    "bin_1_rm = true_z_1[(red_photo_z_1>0.20)&(red_photo_z_1<0.35)] \n",
    "bin_2_rm = true_z_1[(red_photo_z_1>0.35)&(red_photo_z_1<0.50)]\n",
    "bin_3_rm = true_z_1[(red_photo_z_1>0.50)&(red_photo_z_1<0.65)]\n",
    "bin_4_rm = true_z_2[(red_photo_z_2>0.65)&(red_photo_z_2<0.80)]\n",
    "bin_5_rm = true_z_3[(red_photo_z_3>0.80)&(red_photo_z_3<0.95)]"
   ]
  },
  {
   "cell_type": "code",
   "execution_count": 13,
   "metadata": {
    "collapsed": true
   },
   "outputs": [],
   "source": [
    "import scipy.stats as stats \n",
    "f_sky = 4580.0/41253.0\n",
    "nz = 10000 #number of steps to use for the radial/redshift integration\n",
    "zarray = np.linspace(0,4.0,nz)\n",
    "z = zarray[1:-1]"
   ]
  },
  {
   "cell_type": "markdown",
   "metadata": {},
   "source": [
    "#### Calculation of the free (no priors) Fisher matrices\n",
    "\n",
    "Bias model assummed $b(z) = 1 + \\bar{z}$\n",
    "\n",
    "\n",
    "##### Flux limited sample"
   ]
  },
  {
   "cell_type": "code",
   "execution_count": null,
   "metadata": {
    "collapsed": true
   },
   "outputs": [],
   "source": [
    "from scipy.interpolate import UnivariateSpline as spl"
   ]
  },
  {
   "cell_type": "code",
   "execution_count": null,
   "metadata": {
    "collapsed": false
   },
   "outputs": [],
   "source": [
    "# Initialize matrix\n",
    "Fisher_FL_free = np.zeros([3,3])\n",
    "for k in range(0,5):\n",
    "    if (k==0):\n",
    "        bin_z = bin_1_FL\n",
    "    elif (k==1):\n",
    "        bin_z = bin_2_FL\n",
    "    elif (k==2):\n",
    "        bin_z = bin_3_FL\n",
    "    elif (k==3):\n",
    "        bin_z = bin_4_FL\n",
    "    else:\n",
    "        bin_z = bin_5_FL\n",
    "    \n",
    "    # Simple calculations\n",
    "    mean_z = np.mean(bin_z)\n",
    "    N_gal = 32.0*np.float(len(bin_z))\n",
    "    bias = 1.0 + mean_z\n",
    "    # ==========================================================\n",
    "    # ==========================================================\n",
    "    # take a histogram for the redshift distribution \n",
    "    y_like, x_like = np.histogram(bin_z, bins=200, density=True) \n",
    "    x_like = x_like[:-1]\n",
    "            \n",
    "    bin_sp = spl(x_like,y_like,s=0.0, ext=1)     #Interpolate \n",
    "    \n",
    "    Dz = 0.0 # This can change \n",
    "    n_z = bin_sp(z - Dz)   # this is the normalized n(z) in the range (0.0,4.0)\n",
    "\n",
    "    # Calculate the derivative now \n",
    "    Dz_up = Dz + 0.001\n",
    "    Dz_down = Dz - 0.001\n",
    "    \n",
    "    n_z_up = bin_sp(z - Dz_up);n_z_down = bin_sp(z - Dz_down)\n",
    "    dn_dDz = (n_z_up - n_z_down)/(Dz_up - Dz_down)\n",
    "    \n",
    "    Fisher_FL_free += FSB(mean_z, bias, n_z, dn_dDz, f_sky, N_gal)"
   ]
  },
  {
   "cell_type": "markdown",
   "metadata": {
    "collapsed": true
   },
   "source": [
    "### BAO like sample"
   ]
  },
  {
   "cell_type": "code",
   "execution_count": null,
   "metadata": {
    "collapsed": true
   },
   "outputs": [],
   "source": [
    "Fisher_BAO_free = np.zeros([3,3])\n",
    "for k in range(0,5):\n",
    "    if (k==0):\n",
    "        bin_z = bin_1_BAO\n",
    "    elif (k==1):\n",
    "        bin_z = bin_2_BAO\n",
    "    elif (k==2):\n",
    "        bin_z = bin_3_BAO\n",
    "    elif (k==3):\n",
    "        bin_z = bin_4_BAO\n",
    "    else:\n",
    "        bin_z = bin_5_BAO\n",
    "    \n",
    "    # Simple calculations\n",
    "    mean_z = np.mean(bin_z)\n",
    "    N_gal = 32.0*np.float(len(bin_z))\n",
    "    bias = 1.0 + mean_z\n",
    "    # ==========================================================\n",
    "    # ==========================================================\n",
    "    # take a histogram for the redshift distribution \n",
    "    y_like, x_like = np.histogram(bin_z, bins=200, density=True) \n",
    "    x_like = x_like[:-1]\n",
    "            \n",
    "    bin_sp = spl(x_like,y_like, s=0.0, ext=1)     #Interpolate \n",
    "    \n",
    "    Dz = 0.0 # This can change \n",
    "    n_z = bin_sp(z - Dz)   # this is the normalized n(z) in the range (0.0,4.0)\n",
    "\n",
    "    # Calculate the derivative now \n",
    "    Dz_up = Dz + 0.001\n",
    "    Dz_down = Dz - 0.001\n",
    "    \n",
    "    n_z_up = bin_sp(z - Dz_up);n_z_down = bin_sp(z - Dz_down)\n",
    "    dn_dDz = (n_z_up - n_z_down)/(Dz_up - Dz_down)\n",
    "    \n",
    "    Fisher_BAO_free += FSB(mean_z, bias, n_z, dn_dDz, f_sky, N_gal)"
   ]
  },
  {
   "cell_type": "code",
   "execution_count": null,
   "metadata": {
    "collapsed": true
   },
   "outputs": [],
   "source": []
  },
  {
   "cell_type": "code",
   "execution_count": null,
   "metadata": {
    "collapsed": true
   },
   "outputs": [],
   "source": []
  },
  {
   "cell_type": "code",
   "execution_count": null,
   "metadata": {
    "collapsed": false
   },
   "outputs": [],
   "source": [
    "param_names = ['$\\Omega_{\\mbox{m},0}$', '$\\sigma_8$', '$\\Delta z$']\n",
    "fiducial = [0.301, 0.798, 0.0]\n",
    "matrix_1 = Fisher_FL_free\n",
    "matrix_2 = Fisher_BAO_free \n",
    "\n",
    "fisher_1 = fm.fisher_matrix( fisher_matrix=matrix_1, fiducial = fiducial, param_names=param_names )\n",
    "fisher_2 = fm.fisher_matrix( fisher_matrix=matrix_2, fiducial = fiducial, param_names=param_names )\n",
    "fisher_1.name = 'FL'\n",
    "fisher_2.name = 'BAO'\n",
    "\n",
    "fisher_list = fpa.CosmicFish_FisherAnalysis()\n",
    "fisher_list.add_fisher_matrix([fisher_1,fisher_2])\n",
    "fisher_plotter = fp.CosmicFishPlotter(fishers=fisher_list)\n",
    "\n",
    "fisher_plotter.new_plot()\n",
    "fisher_plotter.plot_tri()\n",
    "#fisher_plotter.export('FL_and_RM.pdf', dpi=100)\n",
    "fisher_plotter.export('FL_and_RM.png', dpi=100)\n",
    "IPython.display.Image(filename='FL_and_RM.png',unconfined=True)"
   ]
  },
  {
   "cell_type": "code",
   "execution_count": null,
   "metadata": {
    "collapsed": true
   },
   "outputs": [],
   "source": []
  },
  {
   "cell_type": "code",
   "execution_count": null,
   "metadata": {
    "collapsed": true
   },
   "outputs": [],
   "source": []
  },
  {
   "cell_type": "code",
   "execution_count": null,
   "metadata": {
    "collapsed": true
   },
   "outputs": [],
   "source": []
  },
  {
   "cell_type": "code",
   "execution_count": null,
   "metadata": {
    "collapsed": true
   },
   "outputs": [],
   "source": []
  },
  {
   "cell_type": "code",
   "execution_count": null,
   "metadata": {
    "collapsed": true
   },
   "outputs": [],
   "source": []
  },
  {
   "cell_type": "code",
   "execution_count": null,
   "metadata": {
    "collapsed": true
   },
   "outputs": [],
   "source": []
  }
 ],
 "metadata": {
  "kernelspec": {
   "display_name": "Python 2",
   "language": "python",
   "name": "python2"
  },
  "language_info": {
   "codemirror_mode": {
    "name": "ipython",
    "version": 2
   },
   "file_extension": ".py",
   "mimetype": "text/x-python",
   "name": "python",
   "nbconvert_exporter": "python",
   "pygments_lexer": "ipython2",
   "version": "2.7.13"
  }
 },
 "nbformat": 4,
 "nbformat_minor": 2
}
